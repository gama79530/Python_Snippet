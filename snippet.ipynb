{
 "nbformat": 4,
 "nbformat_minor": 2,
 "metadata": {
  "language_info": {
   "name": "python",
   "codemirror_mode": {
    "name": "ipython",
    "version": 3
   }
  },
  "orig_nbformat": 2,
  "file_extension": ".py",
  "mimetype": "text/x-python",
  "name": "python",
  "npconvert_exporter": "python",
  "pygments_lexer": "ipython3",
  "version": 3
 },
 "cells": [
  {
   "cell_type": "markdown",
   "metadata": {},
   "source": [
    "# Random sampling \n",
    "Sampling **_sel_num_** integers from \\[1, **_max_num_**\\] randomly\n"
   ]
  },
  {
   "cell_type": "code",
   "execution_count": null,
   "metadata": {},
   "outputs": [],
   "source": [
    "import random \n",
    "\n",
    "max_num = 30\n",
    "sel_num = int(max_num / 5)\n",
    "\n",
    "seq = [ i + 1 for i in range(max_num) ]\n",
    "print(sorted(random.sample(seq, sel_num)))"
   ]
  }
 ]
}