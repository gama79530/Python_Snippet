{
 "cells": [
  {
   "cell_type": "markdown",
   "metadata": {},
   "source": [
    "# Random sampling \n",
    "\n",
    "## Scenarios\n",
    "1. Use for choosing a subset of problems in textbook\n",
    "\n",
    "## Description\n",
    "1. Sampling **_ratio_** percentage integers from close interval \\[1, **_stop_**\\] randomly"
   ]
  },
  {
   "cell_type": "code",
   "execution_count": null,
   "metadata": {},
   "outputs": [],
   "source": [
    "from lib.functions import rand_sampling\n",
    "\n",
    "stop = 30\n",
    "ratio = 0.2\n",
    "print(rand_sampling(ratio, stop))\n"
   ]
  },
  {
   "cell_type": "markdown",
   "metadata": {},
   "source": [
    "# Backup folder\n",
    "\n",
    "## Scenarios\n",
    "1. Backup a directory into an external HD\n",
    "\n",
    "## Description\n",
    "1. Copy entire directory tree with root **_source\\_path_** to **_target\\_path_**\n",
    "1. **_mode_**  \n",
    "   - 0 : sync\n",
    "   - 1 : merge"
   ]
  },
  {
   "cell_type": "code",
   "execution_count": null,
   "metadata": {},
   "outputs": [],
   "source": [
    "from lib.functions import backup_folder\n",
    "\n",
    "source_path = ''\n",
    "target_path = ''\n",
    "# 0 => merge\n",
    "# 1 => sync\n",
    "mode = 0\n",
    "verbose=True\n",
    "\n",
    "backup_folder(source_path, target_path, mode)"
   ]
  },
  {
   "source": [
    "# Sample files \n",
    "\n",
    "## Scenarios\n",
    "1. Sampling some videos or music from a folder that store on external storage and list systematically.\n",
    "\n",
    "## Description\n",
    "1. Random sampling files from source_path to target_path\n"
   ],
   "cell_type": "markdown",
   "metadata": {}
  },
  {
   "cell_type": "code",
   "execution_count": null,
   "metadata": {},
   "outputs": [],
   "source": [
    "from lib.functions import rand_file_sampling\n",
    "\n",
    "source_path = ''\n",
    "target_path = '' \n",
    "ratio = 0.35\n",
    "sync_before = True\n",
    "verbose = True\n",
    "\n",
    "rand_file_sampling(source_path, target_path, ratio=0.35, sync_before=True, verbose=True)"
   ]
  }
 ],
 "metadata": {
  "language_info": {
   "name": "python",
   "codemirror_mode": {
    "name": "ipython",
    "version": 3
   },
   "version": "3.7.8-final"
  },
  "orig_nbformat": 2,
  "file_extension": ".py",
  "mimetype": "text/x-python",
  "name": "python",
  "npconvert_exporter": "python",
  "pygments_lexer": "ipython3",
  "version": 3,
  "kernelspec": {
   "name": "python3",
   "display_name": "Python 3.7.8 64-bit",
   "metadata": {
    "interpreter": {
     "hash": "f2efde6ad5487341e9df9f8a9a0eb4a49f74eda2dbc016e7ebe1603833e4cc37"
    }
   }
  }
 },
 "nbformat": 4,
 "nbformat_minor": 2
}