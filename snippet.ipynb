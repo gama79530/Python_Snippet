{
 "cells": [
  {
   "cell_type": "markdown",
   "metadata": {},
   "source": [
    "# Random sampling \n",
    "\n",
    "## Scenarios\n",
    "1. Use for choosing a subset of problems in textbook\n",
    "\n",
    "## Description\n",
    "1. Sampling **_ratio_** percentage integers from close interval \\[1, **_stop_**\\] randomly"
   ]
  },
  {
   "cell_type": "code",
   "execution_count": null,
   "metadata": {},
   "outputs": [],
   "source": [
    "from lib.functions import rand_sampling\n",
    "\n",
    "stop = 30\n",
    "ratio = 0.2\n",
    "print(rand_sampling(ratio, stop))\n"
   ]
  },
  {
   "cell_type": "markdown",
   "metadata": {},
   "source": [
    "# Backup folder\n",
    "\n",
    "## Scenarios\n",
    "1. Backup a directory into an external HD\n",
    "\n",
    "## Description\n",
    "1. Copy entire directory tree with root **_source\\_path_** to **_target\\_path_**\n",
    "1. **_mode_**  \n",
    "   - 0 : sync\n",
    "   - 1 : merge"
   ]
  },
  {
   "cell_type": "code",
   "execution_count": 1,
   "metadata": {},
   "outputs": [
    {
     "output_type": "stream",
     "name": "stdout",
     "text": [
      "====== Task finish!!! ======\n"
     ]
    }
   ],
   "source": [
    "from lib.functions import backup_folder\n",
    "\n",
    "source_path = 'D:\\\\Temp\\\\Movie2\\\\Movie'\n",
    "target_path = 'F:\\\\PerfectMan\\\\Videos\\\\Video\\\\Movie'\n",
    "# 0 => merge\n",
    "# 1 => sync\n",
    "mode = 0\n",
    "\n",
    "backup_folder(source_path, target_path, mode)"
   ]
  },
  {
   "cell_type": "code",
   "execution_count": null,
   "metadata": {},
   "outputs": [],
   "source": []
  }
 ],
 "metadata": {
  "language_info": {
   "name": "python",
   "codemirror_mode": {
    "name": "ipython",
    "version": 3
   },
   "version": "3.7.8-final"
  },
  "orig_nbformat": 2,
  "file_extension": ".py",
  "mimetype": "text/x-python",
  "name": "python",
  "npconvert_exporter": "python",
  "pygments_lexer": "ipython3",
  "version": 3,
  "kernelspec": {
   "name": "python3",
   "display_name": "Python 3.7.8 64-bit",
   "metadata": {
    "interpreter": {
     "hash": "f2efde6ad5487341e9df9f8a9a0eb4a49f74eda2dbc016e7ebe1603833e4cc37"
    }
   }
  }
 },
 "nbformat": 4,
 "nbformat_minor": 2
}