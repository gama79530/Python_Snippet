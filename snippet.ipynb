{
 "nbformat": 4,
 "nbformat_minor": 2,
 "metadata": {
  "language_info": {
   "name": "python",
   "codemirror_mode": {
    "name": "ipython",
    "version": 3
   },
   "version": "3.6.0-final"
  },
  "orig_nbformat": 2,
  "file_extension": ".py",
  "mimetype": "text/x-python",
  "name": "python",
  "npconvert_exporter": "python",
  "pygments_lexer": "ipython3",
  "version": 3,
  "kernelspec": {
   "name": "python36064bitrootconda94e4caaa501c4510952f203605889829",
   "display_name": "Python 3.6.0 64-bit ('root': conda)"
  }
 },
 "cells": [
  {
   "cell_type": "markdown",
   "metadata": {},
   "source": [
    "# Random sampling \n",
    "\n",
    "## Scenarios\n",
    "1. Use for choosing a subset of problems in textbook\n",
    "\n",
    "## Description\n",
    "1. Sampling **_sel_num_** integers from \\[1, **_max_num_**\\] randomly\n"
   ]
  },
  {
   "cell_type": "code",
   "execution_count": null,
   "metadata": {},
   "outputs": [],
   "source": [
    "import random \n",
    "\n",
    "max_num = 30\n",
    "sel_num = int(max_num / 5)\n",
    "\n",
    "seq = [ i + 1 for i in range(max_num) ]\n",
    "print(sorted(random.sample(seq, sel_num)))"
   ]
  },
  {
   "cell_type": "markdown",
   "metadata": {},
   "source": [
    "# Backup folder\n",
    "\n",
    "## Scenarios\n",
    "1. Backup a directory into an external HD\n",
    "\n",
    "## Description\n",
    "1. Copy entire directory tree with root **_source\\_path_** to **_target\\_path_**"
   ]
  },
  {
   "cell_type": "code",
   "execution_count": 1,
   "metadata": {},
   "outputs": [],
   "source": [
    "import os, shutil\n",
    "\n",
    "source_path = ''\n",
    "target_path = ''\n",
    "\n",
    "for root, dirs, files in os.walk(source_path) :\n",
    "    # remove dirs and files\n",
    "    _root = root.replace(source_path, target_path)\n",
    "    if os.path.exists(_root) :\n",
    "        for item in os.listdir(_root) :\n",
    "            if os.path.isdir(os.path.join(_root, item)) and item not in dirs:\n",
    "                shutil.rmtree(os.path.join(_root, item))\n",
    "            elif os.path.isfile(os.path.join(_root, item)) and item not in files:\n",
    "                os.remove(os.path.join(_root, item))\n",
    "    else :\n",
    "        os.mkdir(_root)\n",
    "\n",
    "    # copy dir\n",
    "    for _dir in dirs :\n",
    "        t_dir = os.path.join(_root, _dir)\n",
    "        if not os.path.exists(t_dir) :\n",
    "            os.mkdir(t_dir)\n",
    "\n",
    "    # copy files\n",
    "    for _file in files :\n",
    "        s_file = os.path.join(root, _file)\n",
    "        t_file = os.path.join(_root, _file)\n",
    "        if not os.path.exists(t_file) or os.path.getsize(s_file) != os.path.getsize(t_file) :\n",
    "            shutil.copy2(s_file, t_file)\n",
    "\n",
    "    print('====== Task finish!!! ======')"
   ]
  }
 ]
}