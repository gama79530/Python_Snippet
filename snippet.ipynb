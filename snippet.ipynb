{
 "cells": [
  {
   "cell_type": "markdown",
   "metadata": {},
   "source": [
    "# Random sampling \n",
    "\n",
    "## Scenario\n",
    "1. Sampling **_ratio_** percentage integers from close interval \\[1, **stop**\\] randomly\n",
    "1. Use for choosing a subset of problems in textbook\n",
    "\n",
    "## Description"
   ]
  },
  {
   "cell_type": "code",
   "execution_count": null,
   "metadata": {},
   "outputs": [],
   "source": [
    "from lib.functions import rand_sampling\n",
    "\n",
    "ratio = 0.2\n",
    "stop = 30\n",
    "start = 1\n",
    "\n",
    "print(rand_sampling(ratio, stop, start))\n"
   ]
  },
  {
   "cell_type": "markdown",
   "metadata": {},
   "source": [
    "# Backup folder\n",
    "\n",
    "## Scenario\n",
    "1. Copy entire directory tree with root **_source\\_path_** to **_target\\_path_**\n",
    "1. Backup a directory into an external HD\n",
    "\n",
    "## Description\n",
    "1. **source_path** is the absolute path of directory which will be backup \n",
    "1. **target_path** is the absolute path of directory those backup files and floders will be placed\n",
    "1. Set **mode=0** if you want to merge those files that are not in source_path into target_path.\n",
    "1. Set **mode=1** if you want to delete those files that are not in target_path but not in source_path.\n"
   ]
  },
  {
   "cell_type": "code",
   "execution_count": null,
   "metadata": {},
   "outputs": [],
   "source": [
    "from lib.functions import backup_folder\n",
    "\n",
    "source_path = ''\n",
    "target_path = ''\n",
    "mode = 0\n",
    "verbose=True\n",
    "\n",
    "backup_folder(source_path, target_path, mode, verbose)\n"
   ]
  },
  {
   "source": [
    "# Sample files \n",
    "\n",
    "## Scenario\n",
    "1. Random sampling files from **source_path** to **target_path**\n",
    "1. Sampling some videos or music from a folder that store on external storage and list systematically.\n",
    "\n",
    "## Description\n",
    "1. **source_path** is the absolute path of directory which contains sample files. \n",
    "1. **target_path** is the absolute path of directory those sampled files and floders will be placed.\n",
    "1. Set **is_dir_base=True** if source_path has sub-directory. (using folder name to classify these files)\n",
    "1. Set **is_dir_base=False** if source_path has no sub-directory. (using file name to classify these files)\n",
    "1. Set **merge_before=True** if you want to merge target_path into source_path before sampling. (adding new sample files)\n"
   ],
   "cell_type": "markdown",
   "metadata": {}
  },
  {
   "cell_type": "code",
   "execution_count": null,
   "metadata": {},
   "outputs": [],
   "source": [
    "from lib.functions import rand_file_sampling\n",
    "\n",
    "source_path = ''\n",
    "target_path = ''\n",
    "is_dir_base = True\n",
    "ratio = 0.35\n",
    "merge_before = True\n",
    "verbose = True\n",
    "\n",
    "rand_file_sampling(source_path, target_path, is_dir_base, ratio=ratio, sync_before=sync_before, verbose=verbose)"
   ]
  }
 ],
 "metadata": {
  "language_info": {
   "name": "python",
   "codemirror_mode": {
    "name": "ipython",
    "version": 3
   },
   "version": "3.7.8-final"
  },
  "orig_nbformat": 2,
  "file_extension": ".py",
  "mimetype": "text/x-python",
  "name": "python",
  "npconvert_exporter": "python",
  "pygments_lexer": "ipython3",
  "version": 3,
  "kernelspec": {
   "name": "python3",
   "display_name": "Python 3.7.8 64-bit",
   "metadata": {
    "interpreter": {
     "hash": "f2efde6ad5487341e9df9f8a9a0eb4a49f74eda2dbc016e7ebe1603833e4cc37"
    }
   }
  }
 },
 "nbformat": 4,
 "nbformat_minor": 2
}